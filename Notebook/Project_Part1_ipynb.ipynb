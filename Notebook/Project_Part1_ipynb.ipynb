{
 "cells": [
  {
   "metadata": {
    "collapsed": true
   },
   "cell_type": "markdown",
   "source": "# **Aspect Based Sentiment Analysis**",
   "id": "1d5fb877d613d9f3"
  },
  {
   "metadata": {
    "ExecuteTime": {
     "end_time": "2025-08-31T09:08:39.175709Z",
     "start_time": "2025-08-31T09:08:39.172804Z"
    }
   },
   "cell_type": "code",
   "source": [
    "''' Import all important Libraries '''\n",
    "import numpy as np\n",
    "import pandas as pd\n",
    "import torch\n",
    "import torch.nn as nn"
   ],
   "id": "3087be855ec9287b",
   "outputs": [],
   "execution_count": 10
  },
  {
   "metadata": {},
   "cell_type": "markdown",
   "source": "# **Load Data**",
   "id": "db9f12362cb4304a"
  },
  {
   "metadata": {
    "ExecuteTime": {
     "end_time": "2025-08-31T09:08:39.194767Z",
     "start_time": "2025-08-31T09:08:39.183155Z"
    }
   },
   "cell_type": "code",
   "source": [
    "# Dataset path\n",
    "Train_path ='/Users/mahadiur/Desktop/Bongodev MLops Projects/Aspect Based Sentiment Analysis/Data/train.csv'\n",
    "Test_path ='/Users/mahadiur/Desktop/Bongodev MLops Projects/Aspect Based Sentiment Analysis/Data/test.csv'\n",
    "\n",
    "# Load by use pandas\n",
    "Train_dataset = pd.read_csv(Train_path)\n",
    "Test_dataset = pd.read_csv(Test_path)\n",
    "\n",
    "# check data\n",
    "print(Train_dataset.head())\n"
   ],
   "id": "596bb831d488a5bf",
   "outputs": [
    {
     "name": "stdout",
     "output_type": "stream",
     "text": [
      "                                              review   aspect sentiment\n",
      "0              But the staff was so horrible to us .    staff  negative\n",
      "1  To be completely fair , the only redeeming fac...     food  positive\n",
      "2  The food is uniformly exceptional , with a ver...     food  positive\n",
      "3  The food is uniformly exceptional , with a ver...  kitchen  positive\n",
      "4  The food is uniformly exceptional , with a ver...     menu   neutral\n"
     ]
    }
   ],
   "execution_count": 11
  },
  {
   "metadata": {
    "ExecuteTime": {
     "end_time": "2025-08-31T09:12:10.994579Z",
     "start_time": "2025-08-31T09:12:10.989849Z"
    }
   },
   "cell_type": "code",
   "source": [
    "''' Check aspect values in training dataset '''\n",
    "Train_dataset.value_counts(['aspect'])"
   ],
   "id": "1c5109c651eb6b4",
   "outputs": [
    {
     "data": {
      "text/plain": [
       "aspect                     \n",
       "food                           340\n",
       "service                        189\n",
       "place                           59\n",
       "prices                          56\n",
       "menu                            56\n",
       "                              ... \n",
       "chicken tikka marsala            1\n",
       "chicken tikka                    1\n",
       "chicken on rice with ginger      1\n",
       "chicken in curry sauce           1\n",
       "zucchini blossoms                1\n",
       "Name: count, Length: 1322, dtype: int64"
      ]
     },
     "execution_count": 18,
     "metadata": {},
     "output_type": "execute_result"
    }
   ],
   "execution_count": 18
  },
  {
   "metadata": {
    "ExecuteTime": {
     "end_time": "2025-08-31T09:13:06.666791Z",
     "start_time": "2025-08-31T09:13:06.660485Z"
    }
   },
   "cell_type": "code",
   "source": [
    "''' Check sentiment values in training dataset '''\n",
    "Train_dataset.value_counts(['sentiment'])"
   ],
   "id": "1d1ab79dde5fab31",
   "outputs": [
    {
     "data": {
      "text/plain": [
       "sentiment\n",
       "positive     2164\n",
       "negative      807\n",
       "neutral       637\n",
       "Name: count, dtype: int64"
      ]
     },
     "execution_count": 20,
     "metadata": {},
     "output_type": "execute_result"
    }
   ],
   "execution_count": 20
  },
  {
   "metadata": {
    "ExecuteTime": {
     "end_time": "2025-08-31T09:14:15.781445Z",
     "start_time": "2025-08-31T09:14:15.772100Z"
    }
   },
   "cell_type": "code",
   "source": [
    "''' Dataset information '''\n",
    "Train_dataset.info()"
   ],
   "id": "607a503b3340c9c",
   "outputs": [
    {
     "name": "stdout",
     "output_type": "stream",
     "text": [
      "<class 'pandas.core.frame.DataFrame'>\n",
      "RangeIndex: 3608 entries, 0 to 3607\n",
      "Data columns (total 3 columns):\n",
      " #   Column     Non-Null Count  Dtype \n",
      "---  ------     --------------  ----- \n",
      " 0   review     3608 non-null   object\n",
      " 1   aspect     3608 non-null   object\n",
      " 2   sentiment  3608 non-null   object\n",
      "dtypes: object(3)\n",
      "memory usage: 84.7+ KB\n"
     ]
    }
   ],
   "execution_count": 21
  },
  {
   "metadata": {
    "ExecuteTime": {
     "end_time": "2025-08-31T09:21:35.531241Z",
     "start_time": "2025-08-31T09:21:35.526697Z"
    }
   },
   "cell_type": "code",
   "source": [
    "''' Normalize single column '''\n",
    "import re\n",
    "index = 0\n",
    "example = Train_dataset.iloc[index]\n",
    "review = example['review']\n",
    "sentiment = example['sentiment']\n",
    "aspect = example['aspect']\n",
    "review = review.lower()\n",
    "review = re.sub(r'[^a-z0-9\\s]', '', review)\n",
    "review = ' '.join(review.split())\n",
    "review"
   ],
   "id": "ad390e1d3d261ded",
   "outputs": [
    {
     "data": {
      "text/plain": [
       "'but the staff was so horrible to us'"
      ]
     },
     "execution_count": 32,
     "metadata": {},
     "output_type": "execute_result"
    }
   ],
   "execution_count": 32
  },
  {
   "metadata": {},
   "cell_type": "code",
   "outputs": [],
   "execution_count": null,
   "source": "",
   "id": "29d03b679025e361"
  }
 ],
 "metadata": {
  "kernelspec": {
   "display_name": "Python 3",
   "language": "python",
   "name": "python3"
  },
  "language_info": {
   "codemirror_mode": {
    "name": "ipython",
    "version": 2
   },
   "file_extension": ".py",
   "mimetype": "text/x-python",
   "name": "python",
   "nbconvert_exporter": "python",
   "pygments_lexer": "ipython2",
   "version": "2.7.6"
  }
 },
 "nbformat": 4,
 "nbformat_minor": 5
}
