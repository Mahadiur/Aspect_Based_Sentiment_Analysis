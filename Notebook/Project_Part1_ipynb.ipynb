{
 "cells": [
  {
   "metadata": {
    "collapsed": true
   },
   "cell_type": "markdown",
   "source": "# **Aspect Based Sentiment Analysis**",
   "id": "1d5fb877d613d9f3"
  },
  {
   "metadata": {
    "ExecuteTime": {
     "end_time": "2025-08-31T09:42:49.620895Z",
     "start_time": "2025-08-31T09:42:49.617274Z"
    }
   },
   "cell_type": "code",
   "source": [
    "''' Import all important Libraries '''\n",
    "import numpy as np\n",
    "import pandas as pd\n",
    "import torch\n",
    "import torch.nn as nn"
   ],
   "id": "3087be855ec9287b",
   "outputs": [],
   "execution_count": 50
  },
  {
   "metadata": {},
   "cell_type": "markdown",
   "source": "# **Load Data**",
   "id": "db9f12362cb4304a"
  },
  {
   "metadata": {
    "ExecuteTime": {
     "end_time": "2025-08-31T09:42:49.642429Z",
     "start_time": "2025-08-31T09:42:49.628672Z"
    }
   },
   "cell_type": "code",
   "source": [
    "# Dataset path\n",
    "Train_path ='/Users/mahadiur/Desktop/Bongodev MLops Projects/Aspect Based Sentiment Analysis/Data/train.csv'\n",
    "Test_path ='/Users/mahadiur/Desktop/Bongodev MLops Projects/Aspect Based Sentiment Analysis/Data/test.csv'\n",
    "\n",
    "# Load by use pandas\n",
    "Train_dataset = pd.read_csv(Train_path)\n",
    "Test_dataset = pd.read_csv(Test_path)\n",
    "\n",
    "# check data\n",
    "print(Train_dataset.head())\n"
   ],
   "id": "596bb831d488a5bf",
   "outputs": [
    {
     "name": "stdout",
     "output_type": "stream",
     "text": [
      "                                              review   aspect sentiment\n",
      "0              But the staff was so horrible to us .    staff  negative\n",
      "1  To be completely fair , the only redeeming fac...     food  positive\n",
      "2  The food is uniformly exceptional , with a ver...     food  positive\n",
      "3  The food is uniformly exceptional , with a ver...  kitchen  positive\n",
      "4  The food is uniformly exceptional , with a ver...     menu   neutral\n"
     ]
    }
   ],
   "execution_count": 51
  },
  {
   "metadata": {
    "ExecuteTime": {
     "end_time": "2025-08-31T09:42:49.654164Z",
     "start_time": "2025-08-31T09:42:49.649339Z"
    }
   },
   "cell_type": "code",
   "source": [
    "''' Check aspect values in training dataset '''\n",
    "Train_dataset.value_counts(['aspect'])"
   ],
   "id": "1c5109c651eb6b4",
   "outputs": [
    {
     "data": {
      "text/plain": [
       "aspect                     \n",
       "food                           340\n",
       "service                        189\n",
       "place                           59\n",
       "prices                          56\n",
       "menu                            56\n",
       "                              ... \n",
       "chicken tikka marsala            1\n",
       "chicken tikka                    1\n",
       "chicken on rice with ginger      1\n",
       "chicken in curry sauce           1\n",
       "zucchini blossoms                1\n",
       "Name: count, Length: 1322, dtype: int64"
      ]
     },
     "execution_count": 52,
     "metadata": {},
     "output_type": "execute_result"
    }
   ],
   "execution_count": 52
  },
  {
   "metadata": {
    "ExecuteTime": {
     "end_time": "2025-08-31T09:42:49.660657Z",
     "start_time": "2025-08-31T09:42:49.657548Z"
    }
   },
   "cell_type": "code",
   "source": [
    "''' Check sentiment values in training dataset '''\n",
    "Train_dataset.value_counts(['sentiment'])"
   ],
   "id": "1d1ab79dde5fab31",
   "outputs": [
    {
     "data": {
      "text/plain": [
       "sentiment\n",
       "positive     2164\n",
       "negative      807\n",
       "neutral       637\n",
       "Name: count, dtype: int64"
      ]
     },
     "execution_count": 53,
     "metadata": {},
     "output_type": "execute_result"
    }
   ],
   "execution_count": 53
  },
  {
   "metadata": {
    "ExecuteTime": {
     "end_time": "2025-08-31T09:42:49.667753Z",
     "start_time": "2025-08-31T09:42:49.664707Z"
    }
   },
   "cell_type": "code",
   "source": [
    "''' Dataset information '''\n",
    "Train_dataset.info()"
   ],
   "id": "607a503b3340c9c",
   "outputs": [
    {
     "name": "stdout",
     "output_type": "stream",
     "text": [
      "<class 'pandas.core.frame.DataFrame'>\n",
      "RangeIndex: 3608 entries, 0 to 3607\n",
      "Data columns (total 3 columns):\n",
      " #   Column     Non-Null Count  Dtype \n",
      "---  ------     --------------  ----- \n",
      " 0   review     3608 non-null   object\n",
      " 1   aspect     3608 non-null   object\n",
      " 2   sentiment  3608 non-null   object\n",
      "dtypes: object(3)\n",
      "memory usage: 84.7+ KB\n"
     ]
    }
   ],
   "execution_count": 54
  },
  {
   "metadata": {
    "ExecuteTime": {
     "end_time": "2025-08-31T09:42:49.675989Z",
     "start_time": "2025-08-31T09:42:49.673162Z"
    }
   },
   "cell_type": "code",
   "source": [
    "''' Normalize single column '''\n",
    "import re\n",
    "index = 0\n",
    "example = Train_dataset.iloc[index]\n",
    "review = example['review']\n",
    "sentiment = example['sentiment']\n",
    "aspect = example['aspect']\n",
    "review = review.lower()\n",
    "review = re.sub(r'[^a-z0-9\\s]', '', review)\n",
    "review = ' '.join(review.split())\n",
    "review"
   ],
   "id": "ad390e1d3d261ded",
   "outputs": [
    {
     "data": {
      "text/plain": [
       "'but the staff was so horrible to us'"
      ]
     },
     "execution_count": 55,
     "metadata": {},
     "output_type": "execute_result"
    }
   ],
   "execution_count": 55
  },
  {
   "metadata": {
    "ExecuteTime": {
     "end_time": "2025-08-31T09:42:49.682044Z",
     "start_time": "2025-08-31T09:42:49.679621Z"
    }
   },
   "cell_type": "code",
   "source": [
    "''' Define Normalization functions '''\n",
    "def Normalizetion(text):\n",
    "    # Convert Lowercase\n",
    "    text = text.lower()\n",
    "    # Remove all Punctuation and extra white space\n",
    "    text = re.sub(r'[^a-z0-0\\s]','', text)\n",
    "    # split and join\n",
    "    text = \" \".join(text.split())\n",
    "    return text\n",
    "\n",
    "text = example['review']\n",
    "review = Normalizetion(text)\n",
    "review"
   ],
   "id": "3c16b1ea810ab046",
   "outputs": [
    {
     "data": {
      "text/plain": [
       "'but the staff was so horrible to us'"
      ]
     },
     "execution_count": 56,
     "metadata": {},
     "output_type": "execute_result"
    }
   ],
   "execution_count": 56
  },
  {
   "metadata": {
    "ExecuteTime": {
     "end_time": "2025-08-31T09:42:49.686845Z",
     "start_time": "2025-08-31T09:42:49.684788Z"
    }
   },
   "cell_type": "code",
   "source": [
    "''' Define Tokenization Function '''\n",
    "def Tokenizer(text):\n",
    "    # Word level Tokenization\n",
    "    text = text.split()\n",
    "    return text\n",
    "\n",
    "text = Tokenizer(review)\n",
    "text"
   ],
   "id": "1a316b728615ad94",
   "outputs": [
    {
     "data": {
      "text/plain": [
       "['but', 'the', 'staff', 'was', 'so', 'horrible', 'to', 'us']"
      ]
     },
     "execution_count": 57,
     "metadata": {},
     "output_type": "execute_result"
    }
   ],
   "execution_count": 57
  },
  {
   "metadata": {
    "ExecuteTime": {
     "end_time": "2025-08-31T09:42:49.703152Z",
     "start_time": "2025-08-31T09:42:49.692371Z"
    }
   },
   "cell_type": "code",
   "source": [
    "''' Define Vocabulary Function '''\n",
    "def Vocabulary_func(texts):\n",
    "    text_2_id = {\n",
    "        'padding':0,\n",
    "        'unknown':1\n",
    "    }\n",
    "    idx = 2\n",
    "    for text in texts:\n",
    "        normalize = Normalizetion(text)\n",
    "        Tokens = Tokenizer(normalize)\n",
    "\n",
    "        for token in Tokens:\n",
    "            if text_2_id.get(token) is None:\n",
    "                text_2_id[token] = idx\n",
    "                idx += 1\n",
    "\n",
    "    return text_2_id\n",
    "\n",
    "vocabulary = Vocabulary_func(Train_dataset['review'])\n",
    "print(f'Vocabulary Length: {len(vocabulary)}')"
   ],
   "id": "498d7e25611839ae",
   "outputs": [
    {
     "name": "stdout",
     "output_type": "stream",
     "text": [
      "Vocabulary Length: 3732\n"
     ]
    }
   ],
   "execution_count": 58
  },
  {
   "metadata": {
    "ExecuteTime": {
     "end_time": "2025-08-31T09:50:48.324261Z",
     "start_time": "2025-08-31T09:50:48.320030Z"
    }
   },
   "cell_type": "code",
   "source": [
    "''' Convert token to id '''\n",
    "def token_2_id(tokens):\n",
    "    input_id = [\n",
    "        vocabulary.get(token, vocabulary['unknown']) for token in tokens\n",
    "    ]\n",
    "    return input_id\n",
    "\n",
    "text = example['review'] + 'hello'\n",
    "text = Normalizetion(text)\n",
    "tokens = Tokenizer(text)\n",
    "text = token_2_id(tokens)\n",
    "print(tokens)\n",
    "print(text)"
   ],
   "id": "bed1bfe36f906133",
   "outputs": [
    {
     "name": "stdout",
     "output_type": "stream",
     "text": [
      "['but', 'the', 'staff', 'was', 'so', 'horrible', 'to', 'us', 'hello']\n",
      "[2, 3, 4, 5, 6, 7, 8, 9, 1]\n"
     ]
    }
   ],
   "execution_count": 60
  },
  {
   "metadata": {
    "ExecuteTime": {
     "end_time": "2025-08-31T10:02:38.117763Z",
     "start_time": "2025-08-31T10:02:38.115721Z"
    }
   },
   "cell_type": "code",
   "source": [
    "''' all conditions '''\n",
    "labels = {\n",
    "    'positive':0,\n",
    "    'neutral':1,\n",
    "    'negative':2,\n",
    "}"
   ],
   "id": "8b7f8ef04a3af1e6",
   "outputs": [],
   "execution_count": 64
  },
  {
   "metadata": {
    "ExecuteTime": {
     "end_time": "2025-08-31T10:02:40.288142Z",
     "start_time": "2025-08-31T10:02:40.283993Z"
    }
   },
   "cell_type": "code",
   "source": [
    "''' Process dataset  '''\n",
    "def __getitem__(idx):\n",
    "    text = Train_dataset.iloc[idx]\n",
    "    review = text['review']\n",
    "    sentiment = text['sentiment']\n",
    "    aspect = text['aspect']\n",
    "    concat = review + ' ' + aspect\n",
    "    normalize = Normalizetion(concat)\n",
    "    token = Tokenizer(normalize)\n",
    "    token_id = token_2_id(token)\n",
    "    label_id = labels[sentiment]\n",
    "    return{\n",
    "        \"Token_id\":token_id,\n",
    "        \"label_id\":label_id,\n",
    "    }\n",
    "\n",
    "process_example = __getitem__(idx=0)\n",
    "process_example"
   ],
   "id": "ce57d811ae8686d5",
   "outputs": [
    {
     "data": {
      "text/plain": [
       "{'Token_id': [2, 3, 4, 5, 6, 7, 8, 9, 4], 'label_id': 2}"
      ]
     },
     "execution_count": 65,
     "metadata": {},
     "output_type": "execute_result"
    }
   ],
   "execution_count": 65
  }
 ],
 "metadata": {
  "kernelspec": {
   "display_name": "Python 3",
   "language": "python",
   "name": "python3"
  },
  "language_info": {
   "codemirror_mode": {
    "name": "ipython",
    "version": 2
   },
   "file_extension": ".py",
   "mimetype": "text/x-python",
   "name": "python",
   "nbconvert_exporter": "python",
   "pygments_lexer": "ipython2",
   "version": "2.7.6"
  }
 },
 "nbformat": 4,
 "nbformat_minor": 5
}
